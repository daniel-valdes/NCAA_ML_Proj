{
 "cells": [
  {
   "cell_type": "markdown",
   "metadata": {},
   "source": [
    "# NCAA MARCH MADNESS - Machine Learning"
   ]
  },
  {
   "cell_type": "markdown",
   "metadata": {},
   "source": [
    "## 1. Data Loading"
   ]
  },
  {
   "cell_type": "markdown",
   "metadata": {},
   "source": [
    "Two groups to choose from: detailed results or compact results. Compact stretches back to 1985, detailed only to 2003. Detailed provides us with more features and less to parse through. Each record from datasets 'MRegularSeasonDetailedResults' and 'MNCAATourneyDetailedResults' represents a game from the year's regular season or the tournament with columns for winning and losing team's final scores, attempted FG, attempted 3-point shots, rebounds, fouls, etc.\n",
    "\n",
    "We want one comprehensive dataset that we can then split for training and testing for our final model that includes features that we can use to predict success."
   ]
  },
  {
   "cell_type": "code",
   "execution_count": 1,
   "metadata": {},
   "outputs": [],
   "source": [
    "import pandas as pd\n",
    "import seaborn as sns\n",
    "import os\n",
    "\n",
    "season = pd.read_csv(os.path.join(\"2020DataFiles\", \"MRegularSeasonDetailedResults.csv\"))\n",
    "tourney = pd.read_csv(os.path.join(\"2020DataFiles\", \"MNCAATourneyDetailedResults.csv\"))\n",
    "w_teams = pd.read_csv(os.path.join(\"2020DataFiles\", \"MTeams.csv\"))\n",
    "l_teams = pd.read_csv(os.path.join(\"2020DataFiles\", \"MTeams.csv\"))\n",
    "w_seeds = pd.read_csv(os.path.join(\"2020DataFiles\", \"MNCAATourneySeeds.csv\"))\n",
    "l_seeds = pd.read_csv(os.path.join(\"2020DataFiles\", \"MNCAATourneySeeds.csv\"))\n",
    "conf = pd.read_csv(os.path.join(\"2020DataFiles\", \"MConferenceTourneyGames.csv\"))"
   ]
  },
  {
   "cell_type": "code",
   "execution_count": 1,
   "metadata": {},
   "outputs": [
    {
     "ename": "NameError",
     "evalue": "name 'season' is not defined",
     "output_type": "error",
     "traceback": [
      "\u001b[0;31m---------------------------------------------------------------------------\u001b[0m",
      "\u001b[0;31mNameError\u001b[0m                                 Traceback (most recent call last)",
      "\u001b[0;32m<ipython-input-1-fec0b7f54023>\u001b[0m in \u001b[0;36m<module>\u001b[0;34m\u001b[0m\n\u001b[0;32m----> 1\u001b[0;31m \u001b[0mseason\u001b[0m\u001b[0;34m;\u001b[0m\u001b[0;34m\u001b[0m\u001b[0;34m\u001b[0m\u001b[0m\n\u001b[0m",
      "\u001b[0;31mNameError\u001b[0m: name 'season' is not defined"
     ]
    }
   ],
   "source": [
    "season;"
   ]
  },
  {
   "cell_type": "markdown",
   "metadata": {},
   "source": [
    "## Data Cleaning: \n",
    "Renaming columns in our preliminary dataframes. Make separate dataframes for winners and losers to make merging easier down the road"
   ]
  },
  {
   "cell_type": "code",
   "execution_count": 3,
   "metadata": {},
   "outputs": [],
   "source": [
    "w_teams = w_teams.rename(columns={\n",
    "    \"TeamID\":\"WTeamID\",\n",
    "    \"TeamName\":\"WTeamName\",\n",
    "    \"FirstD1Season\":\"WFirstD1Season\",\n",
    "    'LastD1Season':\"WLastD1Season\"\n",
    "})\n",
    "\n",
    "l_teams = l_teams.rename(columns={\n",
    "    \"TeamID\":\"LTeamID\",\n",
    "    \"TeamName\":\"LTeamName\",\n",
    "    \"FirstD1Season\":\"LFirstD1Season\",\n",
    "    'LastD1Season':\"LLastD1Season\"\n",
    "});\n",
    "\n",
    "w_seeds = w_seeds.rename(columns={\n",
    "    \"TeamID\":\"WTeamID\",\n",
    "    \"Seed\":\"WSeed\"\n",
    "})\n",
    "\n",
    "l_seeds = l_seeds.rename(columns={\n",
    "    \"TeamID\":\"LTeamID\",\n",
    "    \"Seed\":\"LSeed\"\n",
    "})"
   ]
  },
  {
   "cell_type": "code",
   "execution_count": 4,
   "metadata": {},
   "outputs": [],
   "source": [
    "w_seeds['WSeed'] = w_seeds['WSeed'].str.strip('WXYZab').astype(int)"
   ]
  },
  {
   "cell_type": "code",
   "execution_count": 5,
   "metadata": {},
   "outputs": [],
   "source": [
    "w_seeds = w_seeds.loc[w_seeds['Season'] == 2019]"
   ]
  },
  {
   "cell_type": "code",
   "execution_count": 6,
   "metadata": {},
   "outputs": [],
   "source": [
    "w_seeds = w_seeds.merge(w_teams, on='WTeamID').drop(columns=['Season','WTeamID','WFirstD1Season','WLastD1Season'])"
   ]
  },
  {
   "cell_type": "code",
   "execution_count": 7,
   "metadata": {},
   "outputs": [],
   "source": [
    "w_seeds = w_seeds.rename(columns={'WTeamName':'Name'})"
   ]
  },
  {
   "cell_type": "code",
   "execution_count": 8,
   "metadata": {},
   "outputs": [
    {
     "data": {
      "text/html": [
       "<div>\n",
       "<style scoped>\n",
       "    .dataframe tbody tr th:only-of-type {\n",
       "        vertical-align: middle;\n",
       "    }\n",
       "\n",
       "    .dataframe tbody tr th {\n",
       "        vertical-align: top;\n",
       "    }\n",
       "\n",
       "    .dataframe thead th {\n",
       "        text-align: right;\n",
       "    }\n",
       "</style>\n",
       "<table border=\"1\" class=\"dataframe\">\n",
       "  <thead>\n",
       "    <tr style=\"text-align: right;\">\n",
       "      <th></th>\n",
       "      <th>WSeed</th>\n",
       "      <th>Name</th>\n",
       "    </tr>\n",
       "  </thead>\n",
       "  <tbody>\n",
       "    <tr>\n",
       "      <th>0</th>\n",
       "      <td>1</td>\n",
       "      <td>Duke</td>\n",
       "    </tr>\n",
       "    <tr>\n",
       "      <th>1</th>\n",
       "      <td>2</td>\n",
       "      <td>Michigan St</td>\n",
       "    </tr>\n",
       "    <tr>\n",
       "      <th>2</th>\n",
       "      <td>3</td>\n",
       "      <td>LSU</td>\n",
       "    </tr>\n",
       "    <tr>\n",
       "      <th>3</th>\n",
       "      <td>4</td>\n",
       "      <td>Virginia Tech</td>\n",
       "    </tr>\n",
       "    <tr>\n",
       "      <th>4</th>\n",
       "      <td>5</td>\n",
       "      <td>Mississippi St</td>\n",
       "    </tr>\n",
       "  </tbody>\n",
       "</table>\n",
       "</div>"
      ],
      "text/plain": [
       "   WSeed            Name\n",
       "0      1            Duke\n",
       "1      2     Michigan St\n",
       "2      3             LSU\n",
       "3      4   Virginia Tech\n",
       "4      5  Mississippi St"
      ]
     },
     "execution_count": 8,
     "metadata": {},
     "output_type": "execute_result"
    }
   ],
   "source": [
    "w_seeds.head()"
   ]
  },
  {
   "cell_type": "markdown",
   "metadata": {},
   "source": [
    "# CONFERENCE DATA:\n",
    "Conference tourney champions"
   ]
  },
  {
   "cell_type": "code",
   "execution_count": 9,
   "metadata": {},
   "outputs": [],
   "source": [
    "conf = conf.merge(w_teams, on=\"WTeamID\").merge(l_teams, on=\"LTeamID\")\n",
    "\n",
    "conf = conf.drop(columns=['WFirstD1Season','WLastD1Season','LFirstD1Season','LLastD1Season','WTeamID','LTeamID'])\n",
    "\n",
    "conf = conf.sort_values(by=[\"Season\",\"ConfAbbrev\"], axis=0).reset_index(drop=True)\n",
    "\n",
    "conf_2019 = conf.loc[conf['Season'] == 2019]"
   ]
  },
  {
   "cell_type": "code",
   "execution_count": 10,
   "metadata": {},
   "outputs": [],
   "source": [
    "conf_winners = pd.DataFrame(conf_2019.groupby(['ConfAbbrev'])['WTeamName'].value_counts())\n",
    "conf_winners = conf_winners.rename(columns={'WTeamName':\"Appearances\"})\n",
    "conf_winners = conf_winners.reset_index()"
   ]
  },
  {
   "cell_type": "code",
   "execution_count": 11,
   "metadata": {
    "scrolled": true
   },
   "outputs": [
    {
     "data": {
      "text/html": [
       "<div>\n",
       "<style scoped>\n",
       "    .dataframe tbody tr th:only-of-type {\n",
       "        vertical-align: middle;\n",
       "    }\n",
       "\n",
       "    .dataframe tbody tr th {\n",
       "        vertical-align: top;\n",
       "    }\n",
       "\n",
       "    .dataframe thead th {\n",
       "        text-align: right;\n",
       "    }\n",
       "</style>\n",
       "<table border=\"1\" class=\"dataframe\">\n",
       "  <thead>\n",
       "    <tr style=\"text-align: right;\">\n",
       "      <th></th>\n",
       "      <th>ConfAbbrev</th>\n",
       "      <th>WTeamName</th>\n",
       "      <th>Appearances</th>\n",
       "    </tr>\n",
       "  </thead>\n",
       "  <tbody>\n",
       "    <tr>\n",
       "      <th>0</th>\n",
       "      <td>a_sun</td>\n",
       "      <td>Liberty</td>\n",
       "      <td>3</td>\n",
       "    </tr>\n",
       "    <tr>\n",
       "      <th>1</th>\n",
       "      <td>a_sun</td>\n",
       "      <td>Lipscomb</td>\n",
       "      <td>2</td>\n",
       "    </tr>\n",
       "    <tr>\n",
       "      <th>2</th>\n",
       "      <td>a_sun</td>\n",
       "      <td>NJIT</td>\n",
       "      <td>1</td>\n",
       "    </tr>\n",
       "    <tr>\n",
       "      <th>3</th>\n",
       "      <td>a_sun</td>\n",
       "      <td>North Florida</td>\n",
       "      <td>1</td>\n",
       "    </tr>\n",
       "    <tr>\n",
       "      <th>4</th>\n",
       "      <td>a_ten</td>\n",
       "      <td>St Louis</td>\n",
       "      <td>4</td>\n",
       "    </tr>\n",
       "  </tbody>\n",
       "</table>\n",
       "</div>"
      ],
      "text/plain": [
       "  ConfAbbrev      WTeamName  Appearances\n",
       "0      a_sun        Liberty            3\n",
       "1      a_sun       Lipscomb            2\n",
       "2      a_sun           NJIT            1\n",
       "3      a_sun  North Florida            1\n",
       "4      a_ten       St Louis            4"
      ]
     },
     "execution_count": 11,
     "metadata": {},
     "output_type": "execute_result"
    }
   ],
   "source": [
    "conf_winners.head()"
   ]
  },
  {
   "cell_type": "code",
   "execution_count": 11,
   "metadata": {},
   "outputs": [
    {
     "data": {
      "text/html": [
       "<div>\n",
       "<style scoped>\n",
       "    .dataframe tbody tr th:only-of-type {\n",
       "        vertical-align: middle;\n",
       "    }\n",
       "\n",
       "    .dataframe tbody tr th {\n",
       "        vertical-align: top;\n",
       "    }\n",
       "\n",
       "    .dataframe thead th {\n",
       "        text-align: right;\n",
       "    }\n",
       "</style>\n",
       "<table border=\"1\" class=\"dataframe\">\n",
       "  <thead>\n",
       "    <tr style=\"text-align: right;\">\n",
       "      <th></th>\n",
       "      <th>Appearances</th>\n",
       "    </tr>\n",
       "    <tr>\n",
       "      <th>ConfAbbrev</th>\n",
       "      <th></th>\n",
       "    </tr>\n",
       "  </thead>\n",
       "  <tbody>\n",
       "    <tr>\n",
       "      <th>a_sun</th>\n",
       "      <td>3</td>\n",
       "    </tr>\n",
       "    <tr>\n",
       "      <th>a_ten</th>\n",
       "      <td>4</td>\n",
       "    </tr>\n",
       "    <tr>\n",
       "      <th>aac</th>\n",
       "      <td>3</td>\n",
       "    </tr>\n",
       "    <tr>\n",
       "      <th>acc</th>\n",
       "      <td>3</td>\n",
       "    </tr>\n",
       "    <tr>\n",
       "      <th>aec</th>\n",
       "      <td>3</td>\n",
       "    </tr>\n",
       "  </tbody>\n",
       "</table>\n",
       "</div>"
      ],
      "text/plain": [
       "            Appearances\n",
       "ConfAbbrev             \n",
       "a_sun                 3\n",
       "a_ten                 4\n",
       "aac                   3\n",
       "acc                   3\n",
       "aec                   3"
      ]
     },
     "execution_count": 11,
     "metadata": {},
     "output_type": "execute_result"
    }
   ],
   "source": [
    "conf_win_count = pd.DataFrame(conf_winners.groupby(['ConfAbbrev'])['Appearances'].max())\n",
    "conf_win_count.reset_index();\n",
    "conf_win_count.head()"
   ]
  },
  {
   "cell_type": "code",
   "execution_count": 12,
   "metadata": {},
   "outputs": [],
   "source": [
    "conf_champs = conf_win_count.merge(conf_winners, on=['ConfAbbrev','Appearances'])"
   ]
  },
  {
   "cell_type": "code",
   "execution_count": 13,
   "metadata": {
    "scrolled": true
   },
   "outputs": [
    {
     "data": {
      "text/html": [
       "<div>\n",
       "<style scoped>\n",
       "    .dataframe tbody tr th:only-of-type {\n",
       "        vertical-align: middle;\n",
       "    }\n",
       "\n",
       "    .dataframe tbody tr th {\n",
       "        vertical-align: top;\n",
       "    }\n",
       "\n",
       "    .dataframe thead th {\n",
       "        text-align: right;\n",
       "    }\n",
       "</style>\n",
       "<table border=\"1\" class=\"dataframe\">\n",
       "  <thead>\n",
       "    <tr style=\"text-align: right;\">\n",
       "      <th></th>\n",
       "      <th>ConfAbbrev</th>\n",
       "      <th>Appearances</th>\n",
       "      <th>WTeamName</th>\n",
       "    </tr>\n",
       "  </thead>\n",
       "  <tbody>\n",
       "    <tr>\n",
       "      <th>0</th>\n",
       "      <td>a_sun</td>\n",
       "      <td>3</td>\n",
       "      <td>Liberty</td>\n",
       "    </tr>\n",
       "    <tr>\n",
       "      <th>1</th>\n",
       "      <td>a_ten</td>\n",
       "      <td>4</td>\n",
       "      <td>St Louis</td>\n",
       "    </tr>\n",
       "    <tr>\n",
       "      <th>2</th>\n",
       "      <td>aac</td>\n",
       "      <td>3</td>\n",
       "      <td>Cincinnati</td>\n",
       "    </tr>\n",
       "    <tr>\n",
       "      <th>3</th>\n",
       "      <td>acc</td>\n",
       "      <td>3</td>\n",
       "      <td>Duke</td>\n",
       "    </tr>\n",
       "    <tr>\n",
       "      <th>4</th>\n",
       "      <td>aec</td>\n",
       "      <td>3</td>\n",
       "      <td>Vermont</td>\n",
       "    </tr>\n",
       "  </tbody>\n",
       "</table>\n",
       "</div>"
      ],
      "text/plain": [
       "  ConfAbbrev  Appearances   WTeamName\n",
       "0      a_sun            3     Liberty\n",
       "1      a_ten            4    St Louis\n",
       "2        aac            3  Cincinnati\n",
       "3        acc            3        Duke\n",
       "4        aec            3     Vermont"
      ]
     },
     "execution_count": 13,
     "metadata": {},
     "output_type": "execute_result"
    }
   ],
   "source": [
    "conf_champs.head()"
   ]
  },
  {
   "cell_type": "markdown",
   "metadata": {},
   "source": [
    "# Season Data:\n",
    "Merging Season df with Teams df to get a Team Name column and to create a \"Years of Experience\" column for how long a team has been coming to the tournament. Passing only the columns we want then sorting by Season and DayNum to see the season in sequential order"
   ]
  },
  {
   "cell_type": "code",
   "execution_count": 14,
   "metadata": {
    "scrolled": true
   },
   "outputs": [],
   "source": [
    "season = season.merge(w_teams, on=\"WTeamID\")\n",
    "season = season.merge(l_teams, on=\"LTeamID\")\n",
    "\n",
    "season[\"WYearsExp\"] = season[\"WLastD1Season\"] - season[\"WFirstD1Season\"]\n",
    "\n",
    "season[\"LYearsExp\"] = season[\"LLastD1Season\"] - season[\"LFirstD1Season\"]"
   ]
  },
  {
   "cell_type": "code",
   "execution_count": 15,
   "metadata": {},
   "outputs": [],
   "source": [
    "season = season[['Season','DayNum','WTeamName','LTeamName','WScore','LScore','WLoc',\n",
    "                 'NumOT', 'WFGM', 'WFGA', 'WFGM3', 'WFGA3', 'WFTM', 'WFTA', 'WOR', 'WDR', \n",
    "                 'WAst', 'WTO', 'WStl', 'WBlk', 'WPF', 'LFGM', 'LFGA', 'LFGM3', 'LFGA3', \n",
    "                 'LFTM', 'LFTA', 'LOR', 'LDR', 'LAst', 'LTO', 'LStl', 'LBlk', 'LPF',\n",
    "                 'WYearsExp', 'LYearsExp']]\n",
    "\n",
    "season = season.sort_values(by=[\"Season\",\"DayNum\"], axis=0).reset_index(drop=True)"
   ]
  },
  {
   "cell_type": "markdown",
   "metadata": {},
   "source": [
    "For the sake of simplicity we split to only look at data for 2018-2019 season"
   ]
  },
  {
   "cell_type": "code",
   "execution_count": 16,
   "metadata": {},
   "outputs": [],
   "source": [
    "season_2019 = season.loc[season['Season'] == 2019]"
   ]
  },
  {
   "cell_type": "code",
   "execution_count": 17,
   "metadata": {},
   "outputs": [],
   "source": [
    "winners = season_2019.drop(columns=['LTeamName', 'LScore', 'LFGM', 'LFGA', 'LFGM3', 'LFGA3',\n",
    "                 'LFTM', 'LFTA', 'LOR', 'LDR', 'LAst', 'LTO', 'LStl', 'LBlk', 'LPF',\n",
    "                'LYearsExp','LYearsExp', 'Season', 'DayNum', 'NumOT', 'WLoc', 'WFGA',\n",
    "                'WFGA3', 'WFTM'])\n",
    "\n",
    "winners = winners.rename(columns={'WTeamName': 'Name', 'WScore': 'Points', 'WFGM': 'FGM', 'WFGM3': 'FGM3', 'WStl': 'Steals',\n",
    "                                  'WBlk': 'Blocks', 'WPF': 'Fouls', 'WOR': 'Off Rebounds', 'WDR': 'Def Rebounds',\n",
    "                                  'WAst': 'Assists', 'WTO': 'Turnovers','WYearsExp': 'YearsExp', 'WFTA': 'FTA'})\n",
    "\n",
    "losers = season_2019.drop(columns=['WFGM', 'WFGA', 'WFGM3', 'WFGA3', 'WFTM', 'WFTA', 'WOR', 'WDR',\n",
    "                 'WAst', 'WTO', 'WStl', 'WBlk', 'WPF', 'Season', 'DayNum', 'NumOT','WTeamName',\n",
    "                'WScore','WLoc','WYearsExp', 'LFGA', 'LFGA3', 'LFTM'])\n",
    "\n",
    "losers = losers.rename(columns={'LTeamName': 'Name', 'LScore': 'Points', 'LFGM': 'FGM', 'LFGM3': 'FGM3', 'LStl': 'Steals',\n",
    "                                'LBlk': 'Blocks','LPF': 'Fouls','LOR': 'Off Rebounds', 'LDR': 'Def Rebounds',\n",
    "                                'LAst': 'Assists', 'LTO': 'Turnovers', 'LYearsExp': 'YearsExp', 'LFTA': 'FTA'})\n",
    "\n",
    "full_season = winners.append(losers);\n",
    "full_season;\n",
    "\n",
    "wins = winners.groupby('Name').count()\n",
    "wins = wins.drop(columns=['FGM', 'FGM3', 'FTA', 'Steals', 'Blocks', 'Fouls', 'YearsExp', 'Off Rebounds',\n",
    "                          'Def Rebounds', 'Assists', 'Turnovers']).rename(columns={'Points': 'SeasonWins'})\n",
    "wins;\n",
    "\n",
    "season_grouped = full_season.groupby(['Name'])\n",
    "average_stats = season_grouped.mean()\n",
    "seas = pd.merge(wins, average_stats, on='Name').reset_index()"
   ]
  },
  {
   "cell_type": "code",
   "execution_count": 18,
   "metadata": {
    "scrolled": true
   },
   "outputs": [],
   "source": [
    "seas = seas.assign(Conf_Champs=seas.Name.isin(conf_champs.WTeamName).astype(int))"
   ]
  },
  {
   "cell_type": "code",
   "execution_count": 19,
   "metadata": {},
   "outputs": [],
   "source": [
    "seas;"
   ]
  },
  {
   "cell_type": "code",
   "execution_count": 20,
   "metadata": {},
   "outputs": [],
   "source": [
    "full_seas = seas.merge(w_seeds, how='outer', on='Name').fillna(0)\n",
    "\n",
    "tourney_seas = seas.merge(w_seeds, on='Name').fillna(0)"
   ]
  },
  {
   "cell_type": "code",
   "execution_count": 21,
   "metadata": {},
   "outputs": [],
   "source": [
    "tourney_seas;"
   ]
  },
  {
   "cell_type": "markdown",
   "metadata": {},
   "source": [
    "# TOURNEY DATA:\n",
    "Merging Tourney with Teams for same reasons as above. When we merge Tourney with the Seed table to retrieve seeding information, we merge on two keys."
   ]
  },
  {
   "cell_type": "code",
   "execution_count": 22,
   "metadata": {},
   "outputs": [],
   "source": [
    "tourney = tourney.merge(w_teams, on=\"WTeamID\")\n",
    "tourney = tourney.merge(l_teams, on=\"LTeamID\")\n",
    "\n",
    "tourney[\"WYearsExp\"] = tourney[\"WLastD1Season\"] - tourney[\"WFirstD1Season\"]\n",
    "\n",
    "tourney[\"LYearsExp\"] = tourney[\"LLastD1Season\"] - tourney[\"LFirstD1Season\"]"
   ]
  },
  {
   "cell_type": "code",
   "execution_count": 23,
   "metadata": {},
   "outputs": [],
   "source": [
    "tourney = tourney[['Season', 'DayNum', 'WTeamName', 'LTeamName',  'WScore', 'LScore', 'WLoc',\n",
    "       'NumOT', 'WFGM', 'WFGA', 'WFGM3', 'WFGA3', 'WFTM', 'WFTA', 'WOR', 'WDR',\n",
    "       'WAst', 'WTO', 'WStl', 'WBlk', 'WPF', 'LFGM', 'LFGA', 'LFGM3', 'LFGA3',\n",
    "       'LFTM', 'LFTA', 'LOR', 'LDR', 'LAst', 'LTO', 'LStl', 'LBlk', 'LPF',\n",
    "        'WYearsExp', 'LYearsExp']]\n",
    "\n",
    "tourney = tourney.sort_values(by=[\"Season\",\"DayNum\"], axis=0).reset_index(drop=True)"
   ]
  },
  {
   "cell_type": "code",
   "execution_count": 24,
   "metadata": {
    "scrolled": false
   },
   "outputs": [],
   "source": [
    "tourney_2019 = tourney.loc[tourney['Season'] == 2019]"
   ]
  },
  {
   "cell_type": "code",
   "execution_count": 25,
   "metadata": {},
   "outputs": [],
   "source": [
    "tourney_2019 = tourney_2019[tourney_2019.DayNum >= 136]"
   ]
  },
  {
   "cell_type": "code",
   "execution_count": 26,
   "metadata": {},
   "outputs": [],
   "source": [
    "tourney_2019;"
   ]
  },
  {
   "cell_type": "code",
   "execution_count": 27,
   "metadata": {
    "scrolled": false
   },
   "outputs": [],
   "source": [
    "temp = tourney_2019[['Season', 'WTeamName']].rename(columns={'WTeamName': 'Name'})\n",
    "tourney_wins = temp.groupby('Name').count()\n",
    "tourney_wins = tourney_wins.reset_index().rename(columns={'Season': 'TourneyWins'})\n",
    "tourney_wins;"
   ]
  },
  {
   "cell_type": "markdown",
   "metadata": {},
   "source": [
    " "
   ]
  },
  {
   "cell_type": "markdown",
   "metadata": {},
   "source": [
    "### FINAL MERGE FOR DATASET WITH TOURNAMENT WINS"
   ]
  },
  {
   "cell_type": "code",
   "execution_count": 28,
   "metadata": {},
   "outputs": [],
   "source": [
    "full_seas = full_seas.merge(tourney_wins, how='outer', on = 'Name').fillna(0)"
   ]
  },
  {
   "cell_type": "code",
   "execution_count": 29,
   "metadata": {},
   "outputs": [],
   "source": [
    "tourney_seas = tourney_seas.merge(tourney_wins, how= 'outer', on = 'Name').fillna(0)"
   ]
  },
  {
   "cell_type": "code",
   "execution_count": 30,
   "metadata": {},
   "outputs": [],
   "source": [
    "full_seas.to_csv(os.path.join(\"final_dataset353.csv\"))"
   ]
  },
  {
   "cell_type": "code",
   "execution_count": 31,
   "metadata": {},
   "outputs": [],
   "source": [
    "tourney_seas.to_csv(os.path.join(\"final_dataset68.csv\"))"
   ]
  }
 ],
 "metadata": {
  "kernelspec": {
   "display_name": "Python 3",
   "language": "python",
   "name": "python3"
  },
  "language_info": {
   "codemirror_mode": {
    "name": "ipython",
    "version": 3
   },
   "file_extension": ".py",
   "mimetype": "text/x-python",
   "name": "python",
   "nbconvert_exporter": "python",
   "pygments_lexer": "ipython3",
   "version": "3.7.3"
  }
 },
 "nbformat": 4,
 "nbformat_minor": 2
}
