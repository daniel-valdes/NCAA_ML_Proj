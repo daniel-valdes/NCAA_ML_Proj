{
 "cells": [
  {
   "cell_type": "markdown",
   "metadata": {},
   "source": [
    "# MACHINE LEARNING: MULTIPLE LINEAR REGRESSION"
   ]
  },
  {
   "cell_type": "code",
   "execution_count": 1,
   "metadata": {},
   "outputs": [],
   "source": [
    "import pandas as pd\n",
    "import os\n",
    "import seaborn as sns\n",
    "from sklearn.linear_model import LinearRegression\n",
    "from sklearn.model_selection import train_test_split\n",
    "from sklearn.metrics import mean_squared_error\n",
    "from sklearn.model_selection import GridSearchCV\n",
    "from sklearn.preprocessing import StandardScaler"
   ]
  },
  {
   "cell_type": "code",
   "execution_count": 2,
   "metadata": {
    "scrolled": true
   },
   "outputs": [],
   "source": [
    "teams_68 = pd.read_csv(os.path.join('final_dataset68.csv')).fillna(0).drop(columns=['Unnamed: 0'])\n",
    "teams_353 = pd.read_csv(os.path.join('final_dataset353.csv')).fillna(0).drop(columns=['Unnamed: 0'])"
   ]
  },
  {
   "cell_type": "markdown",
   "metadata": {},
   "source": [
    "# 68 TEAM DATASET"
   ]
  },
  {
   "cell_type": "code",
   "execution_count": 3,
   "metadata": {},
   "outputs": [],
   "source": [
    "x = teams_68.drop(columns=['Name','TourneyWins']).values\n",
    "y = teams_68['TourneyWins'].values\n",
    "\n",
    "x_train, x_test, y_train, y_test = train_test_split(x, y, random_state=42,)"
   ]
  },
  {
   "cell_type": "code",
   "execution_count": 4,
   "metadata": {
    "scrolled": true
   },
   "outputs": [],
   "source": [
    "model = LinearRegression()"
   ]
  },
  {
   "cell_type": "code",
   "execution_count": null,
   "metadata": {},
   "outputs": [],
   "source": [
    "x_scaler = StandardScaler().fit(x_train.reshape(-1, 1))"
   ]
  },
  {
   "cell_type": "code",
   "execution_count": null,
   "metadata": {},
   "outputs": [],
   "source": [
    "x_scaled = x_scaler.transform(x)\n",
    "x_train_scaled = x_scaler.transform(x_train)\n",
    "x_test_scaled = x_scaler.transform(x_test)"
   ]
  },
  {
   "cell_type": "markdown",
   "metadata": {},
   "source": [
    "### Fit and score without splitting for cross validation"
   ]
  },
  {
   "cell_type": "code",
   "execution_count": 5,
   "metadata": {
    "scrolled": false
   },
   "outputs": [
    {
     "name": "stdout",
     "output_type": "stream",
     "text": [
      "R2: 0.5272154108898714\n",
      " \n",
      "Coefficients: \n",
      "SeasonWins: 0.008456313383308309\n",
      "Points: 0.22357546548185886\n",
      "FGM: -0.5309295402999872\n",
      "FGM3: -0.31505792860983234\n",
      "FTA: -0.1878099895918294\n",
      "Off Rebounds: -0.030116588607987646\n",
      "Def Rebounds: -0.09355759260266994\n",
      "Assists: 0.11661837546001975\n",
      "Turnovers: -0.08459971022514032\n",
      "Steals: 0.010440905486745028\n",
      "Blocks: 0.20281834090527334\n",
      "Fouls: 0.053694515996766064\n",
      "YearsExp: -0.00323960792283752\n",
      "Conf_Champs: 0.5290280243635578\n",
      "Seed: -0.20290186777450636\n",
      "\n"
     ]
    }
   ],
   "source": [
    "model_naive = model.fit(x, y)\n",
    "\n",
    "score_naive = model_naive.score(x, y)\n",
    "coef_naive = model_naive.coef_\n",
    "\n",
    "print(f\"R2: {score_naive}\")\n",
    "print(' ')\n",
    "print(f'Coefficients: \\nSeasonWins: {coef_naive[0]}\\nPoints: {coef_naive[1]}\\nFGM: {coef_naive[2]}\\nFGM3: {coef_naive[3]}\\nFTA: {coef_naive[4]}\\nOff Rebounds: {coef_naive[5]}\\nDef Rebounds: {coef_naive[6]}\\nAssists: {coef_naive[7]}\\nTurnovers: {coef_naive[8]}\\nSteals: {coef_naive[9]}\\nBlocks: {coef_naive[10]}\\nFouls: {coef_naive[11]}\\nYearsExp: {coef_naive[12]}\\nConf_Champs: {coef_naive[13]}\\nSeed: {coef_naive[14]}\\n')"
   ]
  },
  {
   "cell_type": "markdown",
   "metadata": {},
   "source": [
    "### Fit on training data"
   ]
  },
  {
   "cell_type": "code",
   "execution_count": 6,
   "metadata": {
    "scrolled": true
   },
   "outputs": [
    {
     "name": "stdout",
     "output_type": "stream",
     "text": [
      "R2: 0.5298862015080243\n",
      " \n",
      "Coefficients: \n",
      "SeasonWins: -0.03214825170685589\n",
      "Points: 0.2839378652152983\n",
      "FGM: -0.7272976736918562\n",
      "FGM3: -0.33981701131308784\n",
      "FTA: -0.24208944201088312\n",
      "Off Rebounds: -0.007991976765165859\n",
      "Def Rebounds: -0.0023063796574829334\n",
      "Assists: 0.19096312529696674\n",
      "Turnovers: -0.29127079610280027\n",
      "Steals: -0.01976781308255289\n",
      "Blocks: 0.21088383272955308\n",
      "Fouls: 0.10860863604901488\n",
      "YearsExp: -0.0007330969395003828\n",
      "Conf_Champs: 0.5826671442827136\n",
      "Seed: -0.19660643822090987\n",
      "\n"
     ]
    }
   ],
   "source": [
    "model_trained = model.fit(x_train, y_train)\n",
    "\n",
    "train_score = model_trained.score(x_train, y_train)\n",
    "coef_trained = model_trained.coef_\n",
    "\n",
    "print(f\"R2: {train_score}\")\n",
    "print(' ')\n",
    "print(f'Coefficients: \\nSeasonWins: {coef_trained[0]}\\nPoints: {coef_trained[1]}\\nFGM: {coef_trained[2]}\\nFGM3: {coef_trained[3]}\\nFTA: {coef_trained[4]}\\nOff Rebounds: {coef_trained[5]}\\nDef Rebounds: {coef_trained[6]}\\nAssists: {coef_trained[7]}\\nTurnovers: {coef_trained[8]}\\nSteals: {coef_trained[9]}\\nBlocks: {coef_trained[10]}\\nFouls: {coef_trained[11]}\\nYearsExp: {coef_trained[12]}\\nConf_Champs: {coef_trained[13]}\\nSeed: {coef_trained[14]}\\n')"
   ]
  },
  {
   "cell_type": "markdown",
   "metadata": {},
   "source": [
    "### Score with testing data"
   ]
  },
  {
   "cell_type": "code",
   "execution_count": 7,
   "metadata": {
    "scrolled": false
   },
   "outputs": [
    {
     "name": "stdout",
     "output_type": "stream",
     "text": [
      "MSE: 1.361509522692835\n",
      "Test R2: 0.36536088377704956\n"
     ]
    }
   ],
   "source": [
    "predictions = model_trained.predict(x_test)\n",
    "test_score = model_trained.score(x_test, y_test)\n",
    "MSE = mean_squared_error(y_test, predictions)\n",
    "\n",
    "print(f\"MSE: {MSE}\")\n",
    "print(f\"Test R2: {test_score}\")"
   ]
  },
  {
   "cell_type": "markdown",
   "metadata": {},
   "source": [
    " "
   ]
  },
  {
   "cell_type": "markdown",
   "metadata": {},
   "source": [
    "## Drop Seed from X (Many X variables are taken into account when seeding)"
   ]
  },
  {
   "cell_type": "code",
   "execution_count": null,
   "metadata": {},
   "outputs": [],
   "source": [
    "x = teams_68.drop(columns=['Name','TourneyWins','WSeed'])\n",
    "y = teams_68['TourneyWins']\n",
    "\n",
    "x_train, x_test, y_train, y_test = train_test_split(x, y, random_state=42,)"
   ]
  },
  {
   "cell_type": "code",
   "execution_count": null,
   "metadata": {
    "scrolled": true
   },
   "outputs": [],
   "source": [
    "model = LinearRegression()"
   ]
  },
  {
   "cell_type": "markdown",
   "metadata": {},
   "source": [
    "### Fit and score without splitting for cross validation"
   ]
  },
  {
   "cell_type": "code",
   "execution_count": null,
   "metadata": {
    "scrolled": false
   },
   "outputs": [],
   "source": [
    "model_naive = model.fit(x, y)\n",
    "\n",
    "score_naive = model_naive.score(x, y)\n",
    "coef_naive = model_naive.coef_\n",
    "\n",
    "print(f\"R2: {score_naive}\")\n",
    "print(' ')\n",
    "print(f'Coefficients: \\nSeasonWins: {coef_naive[0]}\\nPoints: {coef_naive[1]}\\nFGM: {coef_naive[2]}\\nFGM3: {coef_naive[3]}\\nFTA: {coef_naive[4]}\\nOff Rebounds: {coef_naive[5]}\\nDef Rebounds: {coef_naive[6]}\\nAssists: {coef_naive[7]}\\nTurnovers: {coef_naive[8]}\\nSteals: {coef_naive[9]}\\nBlocks: {coef_naive[10]}\\nFouls: {coef_naive[11]}\\nYearsExp: {coef_naive[12]}\\nConf_Champs: {coef_naive[13]}')"
   ]
  },
  {
   "cell_type": "code",
   "execution_count": null,
   "metadata": {
    "scrolled": true
   },
   "outputs": [],
   "source": [
    "model_trained = model.fit(x_train, y_train)\n",
    "\n",
    "train_score = model_trained.score(x_train, y_train)\n",
    "coef_trained = model_trained.coef_\n",
    "\n",
    "print(f\"R2: {train_score}\")\n",
    "print(' ')\n",
    "print(f'Coefficients: \\nSeasonWins: {coef_trained[0]}\\nPoints: {coef_trained[1]}\\nFGM: {coef_trained[2]}\\nFGM3: {coef_trained[3]}\\nFTA: {coef_trained[4]}\\nOff Rebounds: {coef_trained[5]}\\nDef Rebounds: {coef_trained[6]}\\nAssists: {coef_trained[7]}\\nTurnovers: {coef_trained[8]}\\nSteals: {coef_trained[9]}\\nBlocks: {coef_trained[10]}\\nFouls: {coef_trained[11]}\\nYearsExp: {coef_trained[12]}\\nConf_Champs: {coef_trained[13]}')"
   ]
  },
  {
   "cell_type": "markdown",
   "metadata": {},
   "source": [
    "### Score with testing data"
   ]
  },
  {
   "cell_type": "code",
   "execution_count": null,
   "metadata": {
    "scrolled": true
   },
   "outputs": [],
   "source": [
    "predictions = model_trained.predict(x_test)\n",
    "test_score = model_trained.score(x_test, y_test)\n",
    "MSE = mean_squared_error(y_test, predictions)\n",
    "\n",
    "print(f\"MSE: {MSE}\")\n",
    "print(f\"Test R2: {test_score}\")"
   ]
  },
  {
   "cell_type": "markdown",
   "metadata": {},
   "source": [
    " "
   ]
  },
  {
   "cell_type": "markdown",
   "metadata": {},
   "source": [
    " "
   ]
  },
  {
   "cell_type": "markdown",
   "metadata": {},
   "source": [
    "# 353 TEAM DATASET"
   ]
  },
  {
   "cell_type": "code",
   "execution_count": null,
   "metadata": {},
   "outputs": [],
   "source": [
    "x = teams_353.drop(columns=['Name','TourneyWins'])\n",
    "y = teams_353['TourneyWins']\n",
    "\n",
    "x_train, x_test, y_train, y_test = train_test_split(x, y, random_state=42,)"
   ]
  },
  {
   "cell_type": "code",
   "execution_count": null,
   "metadata": {
    "scrolled": true
   },
   "outputs": [],
   "source": [
    "model = LinearRegression()"
   ]
  },
  {
   "cell_type": "markdown",
   "metadata": {},
   "source": [
    "### Fit and score without splitting for cross validation"
   ]
  },
  {
   "cell_type": "code",
   "execution_count": null,
   "metadata": {
    "scrolled": true
   },
   "outputs": [],
   "source": [
    "model_naive = model.fit(x, y)\n",
    "\n",
    "score_naive = model_naive.score(x, y)\n",
    "coef_naive = model_naive.coef_\n",
    "\n",
    "print(f\"R2: {score_naive}\")\n",
    "print(' ')\n",
    "print(f'Coefficients: \\nSeasonWins: {coef_naive[0]}\\nPoints: {coef_naive[1]}\\nFGM: {coef_naive[2]}\\nFGM3: {coef_naive[3]}\\nFTA: {coef_naive[4]}\\nOff Rebounds: {coef_naive[5]}\\nDef Rebounds: {coef_naive[6]}\\nAssists: {coef_naive[7]}\\nTurnovers: {coef_naive[8]}\\nSteals: {coef_naive[9]}\\nBlocks: {coef_naive[10]}\\nFouls: {coef_naive[11]}\\nYearsExp: {coef_naive[12]}\\nConf_Champs: {coef_naive[13]}\\nSeed: {coef_naive[14]}\\n')"
   ]
  },
  {
   "cell_type": "markdown",
   "metadata": {},
   "source": [
    "### Fit on training data"
   ]
  },
  {
   "cell_type": "code",
   "execution_count": null,
   "metadata": {
    "scrolled": true
   },
   "outputs": [],
   "source": [
    "model_trained = model.fit(x_train, y_train)\n",
    "\n",
    "train_score = model_trained.score(x_train, y_train)\n",
    "coef_trained = model_trained.coef_\n",
    "\n",
    "print(f\"R2: {train_score}\")\n",
    "print(' ')\n",
    "print(f'Coefficients: \\nSeasonWins: {coef_trained[0]}\\nPoints: {coef_trained[1]}\\nFGM: {coef_trained[2]}\\nFGM3: {coef_trained[3]}\\nFTA: {coef_trained[4]}\\nOff Rebounds: {coef_trained[5]}\\nDef Rebounds: {coef_trained[6]}\\nAssists: {coef_trained[7]}\\nTurnovers: {coef_trained[8]}\\nSteals: {coef_trained[9]}\\nBlocks: {coef_trained[10]}\\nFouls: {coef_trained[11]}\\nYearsExp: {coef_trained[12]}\\nConf_Champs: {coef_trained[13]}\\nSeed: {coef_trained[14]}\\n')"
   ]
  },
  {
   "cell_type": "markdown",
   "metadata": {},
   "source": [
    "### Score with testing data"
   ]
  },
  {
   "cell_type": "code",
   "execution_count": null,
   "metadata": {
    "scrolled": true
   },
   "outputs": [],
   "source": [
    "predictions = model_trained.predict(x_test)\n",
    "test_score = model_trained.score(x_test, y_test)\n",
    "MSE = mean_squared_error(y_test, predictions)\n",
    "\n",
    "print(f\"MSE: {MSE}\")\n",
    "print(f\"Test R2: {test_score}\")"
   ]
  },
  {
   "cell_type": "markdown",
   "metadata": {},
   "source": [
    "# PREDICTIONS"
   ]
  },
  {
   "cell_type": "code",
   "execution_count": 8,
   "metadata": {},
   "outputs": [],
   "source": [
    "virginia = teams_68.loc[teams_68['Name'] == \"Virginia\"].drop(columns=['Name','TourneyWins'])\n",
    "unc = teams_68.loc[teams_68['Name'] == 'North Carolina'].drop(columns=['Name','TourneyWins'])\n",
    "duke = teams_68.loc[teams_68['Name'] == 'Duke'].drop(columns=['Name','TourneyWins'])"
   ]
  },
  {
   "cell_type": "code",
   "execution_count": 13,
   "metadata": {},
   "outputs": [
    {
     "name": "stdout",
     "output_type": "stream",
     "text": [
      "Prediction: [3.13871686]\n",
      "Actual: 6\n"
     ]
    }
   ],
   "source": [
    "virginia_vector = virginia.values\n",
    "predicted_class = model_trained.predict(virginia_vector)\n",
    "print(f\"Prediction: {predicted_class}\")\n",
    "print(f\"Actual: 6\")"
   ]
  },
  {
   "cell_type": "code",
   "execution_count": 14,
   "metadata": {},
   "outputs": [
    {
     "name": "stdout",
     "output_type": "stream",
     "text": [
      "Prediction: [1.99569747]\n",
      "Actual: 2\n"
     ]
    }
   ],
   "source": [
    "unc_vector = unc.values\n",
    "predicted_class = model_trained.predict(unc_vector)\n",
    "print(f\"Prediction: {predicted_class}\")\n",
    "print(f\"Actual: 2\")"
   ]
  },
  {
   "cell_type": "code",
   "execution_count": 15,
   "metadata": {},
   "outputs": [
    {
     "name": "stdout",
     "output_type": "stream",
     "text": [
      "Prediction: [2.2074207]\n",
      "Actual: 3\n"
     ]
    }
   ],
   "source": [
    "duke_vector = duke.values\n",
    "predicted_class = model_trained.predict(duke_vector)\n",
    "print(f\"Prediction: {predicted_class}\")\n",
    "print(f\"Actual: 3\")"
   ]
  },
  {
   "cell_type": "code",
   "execution_count": null,
   "metadata": {},
   "outputs": [],
   "source": [
    "new_team = [[32, 100, 30, 10, 24, 15, 25, 20, 0, 15, 15, 2, 35, 1, 1]]\n",
    "\n",
    "model_trained.predict(new_team)"
   ]
  },
  {
   "cell_type": "code",
   "execution_count": null,
   "metadata": {},
   "outputs": [],
   "source": []
  }
 ],
 "metadata": {
  "kernelspec": {
   "display_name": "Python 3",
   "language": "python",
   "name": "python3"
  },
  "language_info": {
   "codemirror_mode": {
    "name": "ipython",
    "version": 3
   },
   "file_extension": ".py",
   "mimetype": "text/x-python",
   "name": "python",
   "nbconvert_exporter": "python",
   "pygments_lexer": "ipython3",
   "version": "3.7.3"
  }
 },
 "nbformat": 4,
 "nbformat_minor": 2
}
