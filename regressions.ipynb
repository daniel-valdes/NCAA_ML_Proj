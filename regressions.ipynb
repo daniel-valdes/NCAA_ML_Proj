{
 "cells": [
  {
   "cell_type": "markdown",
   "metadata": {},
   "source": [
    "# MACHINE LEARNING: MULTIPLE LINEAR REGRESSION"
   ]
  },
  {
   "cell_type": "code",
   "execution_count": 3,
   "metadata": {},
   "outputs": [],
   "source": [
    "import pandas as pd\n",
    "import os\n",
    "import seaborn as sns\n",
    "from sklearn.linear_model import LinearRegression\n",
    "from sklearn.model_selection import train_test_split\n",
    "from sklearn.metrics import mean_squared_error\n",
    "from sklearn.model_selection import GridSearchCV"
   ]
  },
  {
   "cell_type": "code",
   "execution_count": 4,
   "metadata": {
    "scrolled": true
   },
   "outputs": [],
   "source": [
    "teams_68 = pd.read_csv(os.path.join('final_dataset68.csv')).fillna(0).drop(columns=['Unnamed: 0'])\n",
    "teams_353 = pd.read_csv(os.path.join('final_dataset353.csv')).fillna(0).drop(columns=['Unnamed: 0'])"
   ]
  },
  {
   "cell_type": "markdown",
   "metadata": {},
   "source": [
    "# 68 TEAM DATASET"
   ]
  },
  {
   "cell_type": "code",
   "execution_count": 5,
   "metadata": {},
   "outputs": [],
   "source": [
    "x = teams_68.drop(columns=['Name','TourneyWins'])\n",
    "y = teams_68['TourneyWins']\n",
    "\n",
    "x_train, x_test, y_train, y_test = train_test_split(x, y, random_state=42,)"
   ]
  },
  {
   "cell_type": "code",
   "execution_count": 6,
   "metadata": {
    "scrolled": true
   },
   "outputs": [],
   "source": [
    "model = LinearRegression()"
   ]
  },
  {
   "cell_type": "markdown",
   "metadata": {},
   "source": [
    "### Fit and score without splitting for cross validation"
   ]
  },
  {
   "cell_type": "code",
   "execution_count": 7,
   "metadata": {
    "scrolled": false
   },
   "outputs": [
    {
     "name": "stdout",
     "output_type": "stream",
     "text": [
      "R2: 0.5272154108898714\n",
      " \n",
      "Coefficients: \n",
      "SeasonWins: 0.008456313383308309\n",
      "Points: 0.22357546548185886\n",
      "FGM: -0.5309295402999872\n",
      "FGM3: -0.31505792860983234\n",
      "FTA: -0.1878099895918294\n",
      "Off Rebounds: -0.030116588607987646\n",
      "Def Rebounds: -0.09355759260266994\n",
      "Assists: 0.11661837546001975\n",
      "Turnovers: -0.08459971022514032\n",
      "Steals: 0.010440905486745028\n",
      "Blocks: 0.20281834090527334\n",
      "Fouls: 0.053694515996766064\n",
      "YearsExp: -0.00323960792283752\n",
      "Conf_Champs: 0.5290280243635578\n",
      "Seed: -0.20290186777450636\n",
      "\n"
     ]
    }
   ],
   "source": [
    "model_naive = model.fit(x, y)\n",
    "\n",
    "score_naive = model_naive.score(x, y)\n",
    "coef_naive = model_naive.coef_\n",
    "\n",
    "print(f\"R2: {score_naive}\")\n",
    "print(' ')\n",
    "print(f'Coefficients: \\nSeasonWins: {coef_naive[0]}\\nPoints: {coef_naive[1]}\\nFGM: {coef_naive[2]}\\nFGM3: {coef_naive[3]}\\nFTA: {coef_naive[4]}\\nOff Rebounds: {coef_naive[5]}\\nDef Rebounds: {coef_naive[6]}\\nAssists: {coef_naive[7]}\\nTurnovers: {coef_naive[8]}\\nSteals: {coef_naive[9]}\\nBlocks: {coef_naive[10]}\\nFouls: {coef_naive[11]}\\nYearsExp: {coef_naive[12]}\\nConf_Champs: {coef_naive[13]}\\nSeed: {coef_naive[14]}\\n')"
   ]
  },
  {
   "cell_type": "markdown",
   "metadata": {},
   "source": [
    "### Fit on training data"
   ]
  },
  {
   "cell_type": "code",
   "execution_count": 8,
   "metadata": {
    "scrolled": true
   },
   "outputs": [
    {
     "name": "stdout",
     "output_type": "stream",
     "text": [
      "R2: 0.5298862015080248\n",
      " \n",
      "Coefficients: \n",
      "SeasonWins: -0.032148251706856035\n",
      "Points: 0.2839378652152987\n",
      "FGM: -0.7272976736918573\n",
      "FGM3: -0.3398170113130885\n",
      "FTA: -0.24208944201088362\n",
      "Off Rebounds: -0.007991976765165887\n",
      "Def Rebounds: -0.002306379657482753\n",
      "Assists: 0.1909631252969669\n",
      "Turnovers: -0.2912707961028005\n",
      "Steals: -0.01976781308255293\n",
      "Blocks: 0.2108838327295538\n",
      "Fouls: 0.10860863604901522\n",
      "YearsExp: -0.0007330969395006048\n",
      "Conf_Champs: 0.5826671442827142\n",
      "Seed: -0.1966064382209102\n",
      "\n"
     ]
    }
   ],
   "source": [
    "model_trained = model.fit(x_train, y_train)\n",
    "\n",
    "train_score = model_trained.score(x_train, y_train)\n",
    "coef_trained = model_trained.coef_\n",
    "\n",
    "print(f\"R2: {train_score}\")\n",
    "print(' ')\n",
    "print(f'Coefficients: \\nSeasonWins: {coef_trained[0]}\\nPoints: {coef_trained[1]}\\nFGM: {coef_trained[2]}\\nFGM3: {coef_trained[3]}\\nFTA: {coef_trained[4]}\\nOff Rebounds: {coef_trained[5]}\\nDef Rebounds: {coef_trained[6]}\\nAssists: {coef_trained[7]}\\nTurnovers: {coef_trained[8]}\\nSteals: {coef_trained[9]}\\nBlocks: {coef_trained[10]}\\nFouls: {coef_trained[11]}\\nYearsExp: {coef_trained[12]}\\nConf_Champs: {coef_trained[13]}\\nSeed: {coef_trained[14]}\\n')"
   ]
  },
  {
   "cell_type": "markdown",
   "metadata": {},
   "source": [
    "### Score with testing data"
   ]
  },
  {
   "cell_type": "code",
   "execution_count": 9,
   "metadata": {
    "scrolled": false
   },
   "outputs": [
    {
     "name": "stdout",
     "output_type": "stream",
     "text": [
      "MSE: 1.3615095226928304\n",
      "Test R2: 0.36536088377705167\n"
     ]
    }
   ],
   "source": [
    "predictions = model_trained.predict(x_test)\n",
    "test_score = model_trained.score(x_test, y_test)\n",
    "MSE = mean_squared_error(y_test, predictions)\n",
    "\n",
    "print(f\"MSE: {MSE}\")\n",
    "print(f\"Test R2: {test_score}\")"
   ]
  },
  {
   "cell_type": "markdown",
   "metadata": {},
   "source": [
    " "
   ]
  },
  {
   "cell_type": "markdown",
   "metadata": {},
   "source": [
    "## Drop Seed from X (Many X variables are taken into account when seeding)"
   ]
  },
  {
   "cell_type": "code",
   "execution_count": 12,
   "metadata": {},
   "outputs": [],
   "source": [
    "x = teams_68.drop(columns=['Name','TourneyWins','WSeed'])\n",
    "y = teams_68['TourneyWins']\n",
    "\n",
    "x_train, x_test, y_train, y_test = train_test_split(x, y, random_state=42,)"
   ]
  },
  {
   "cell_type": "code",
   "execution_count": 13,
   "metadata": {
    "scrolled": true
   },
   "outputs": [],
   "source": [
    "model = LinearRegression()"
   ]
  },
  {
   "cell_type": "markdown",
   "metadata": {},
   "source": [
    "### Fit and score without splitting for cross validation"
   ]
  },
  {
   "cell_type": "code",
   "execution_count": 14,
   "metadata": {
    "scrolled": false
   },
   "outputs": [
    {
     "name": "stdout",
     "output_type": "stream",
     "text": [
      "R2: 0.41589747216336515\n",
      " \n",
      "Coefficients: \n",
      "SeasonWins: 0.11019324576083249\n",
      "Points: 0.4456656076528321\n",
      "FGM: -1.0272135057033898\n",
      "FGM3: -0.4357158980375268\n",
      "FTA: -0.35229251625054037\n",
      "Off Rebounds: 0.11599232097473558\n",
      "Def Rebounds: -0.08514565554015624\n",
      "Assists: 0.15486533389163853\n",
      "Turnovers: -0.11004434048553773\n",
      "Steals: 0.07539144736620679\n",
      "Blocks: 0.3786454300849038\n",
      "Fouls: -0.08286879604747005\n",
      "YearsExp: 0.00023985500299522622\n",
      "Conf_Champs: -0.393246309717818\n"
     ]
    }
   ],
   "source": [
    "model_naive = model.fit(x, y)\n",
    "\n",
    "score_naive = model_naive.score(x, y)\n",
    "coef_naive = model_naive.coef_\n",
    "\n",
    "print(f\"R2: {score_naive}\")\n",
    "print(' ')\n",
    "print(f'Coefficients: \\nSeasonWins: {coef_naive[0]}\\nPoints: {coef_naive[1]}\\nFGM: {coef_naive[2]}\\nFGM3: {coef_naive[3]}\\nFTA: {coef_naive[4]}\\nOff Rebounds: {coef_naive[5]}\\nDef Rebounds: {coef_naive[6]}\\nAssists: {coef_naive[7]}\\nTurnovers: {coef_naive[8]}\\nSteals: {coef_naive[9]}\\nBlocks: {coef_naive[10]}\\nFouls: {coef_naive[11]}\\nYearsExp: {coef_naive[12]}\\nConf_Champs: {coef_naive[13]}')"
   ]
  },
  {
   "cell_type": "code",
   "execution_count": 15,
   "metadata": {
    "scrolled": true
   },
   "outputs": [
    {
     "name": "stdout",
     "output_type": "stream",
     "text": [
      "R2: 0.4396714785816603\n",
      " \n",
      "Coefficients: \n",
      "SeasonWins: 0.0639458929699065\n",
      "Points: 0.43602342889308804\n",
      "FGM: -1.06697970660902\n",
      "FGM3: -0.3291408955823764\n",
      "FTA: -0.3737392506698489\n",
      "Off Rebounds: 0.14171861201649597\n",
      "Def Rebounds: 0.03728321077621734\n",
      "Assists: 0.24371680113359612\n",
      "Turnovers: -0.27173505521510477\n",
      "Steals: 0.08360004582094914\n",
      "Blocks: 0.3611345310481574\n",
      "Fouls: -0.08377700076194135\n",
      "YearsExp: -0.014745021933997848\n",
      "Conf_Champs: -0.5120445608509133\n"
     ]
    }
   ],
   "source": [
    "model_trained = model.fit(x_train, y_train)\n",
    "\n",
    "train_score = model_trained.score(x_train, y_train)\n",
    "coef_trained = model_trained.coef_\n",
    "\n",
    "print(f\"R2: {train_score}\")\n",
    "print(' ')\n",
    "print(f'Coefficients: \\nSeasonWins: {coef_trained[0]}\\nPoints: {coef_trained[1]}\\nFGM: {coef_trained[2]}\\nFGM3: {coef_trained[3]}\\nFTA: {coef_trained[4]}\\nOff Rebounds: {coef_trained[5]}\\nDef Rebounds: {coef_trained[6]}\\nAssists: {coef_trained[7]}\\nTurnovers: {coef_trained[8]}\\nSteals: {coef_trained[9]}\\nBlocks: {coef_trained[10]}\\nFouls: {coef_trained[11]}\\nYearsExp: {coef_trained[12]}\\nConf_Champs: {coef_trained[13]}')"
   ]
  },
  {
   "cell_type": "markdown",
   "metadata": {},
   "source": [
    "### Score with testing data"
   ]
  },
  {
   "cell_type": "code",
   "execution_count": 16,
   "metadata": {
    "scrolled": true
   },
   "outputs": [
    {
     "name": "stdout",
     "output_type": "stream",
     "text": [
      "MSE: 1.9138111194945409\n",
      "Test R2: 0.1079170749452868\n"
     ]
    }
   ],
   "source": [
    "predictions = model_trained.predict(x_test)\n",
    "test_score = model_trained.score(x_test, y_test)\n",
    "MSE = mean_squared_error(y_test, predictions)\n",
    "\n",
    "print(f\"MSE: {MSE}\")\n",
    "print(f\"Test R2: {test_score}\")"
   ]
  },
  {
   "cell_type": "markdown",
   "metadata": {},
   "source": [
    " "
   ]
  },
  {
   "cell_type": "markdown",
   "metadata": {},
   "source": [
    " "
   ]
  },
  {
   "cell_type": "markdown",
   "metadata": {},
   "source": [
    "# 353 TEAM DATASET"
   ]
  },
  {
   "cell_type": "code",
   "execution_count": 17,
   "metadata": {},
   "outputs": [],
   "source": [
    "x = teams_353.drop(columns=['Name','TourneyWins'])\n",
    "y = teams_353['TourneyWins']\n",
    "\n",
    "x_train, x_test, y_train, y_test = train_test_split(x, y, random_state=42,)"
   ]
  },
  {
   "cell_type": "code",
   "execution_count": 18,
   "metadata": {
    "scrolled": true
   },
   "outputs": [],
   "source": [
    "model = LinearRegression()"
   ]
  },
  {
   "cell_type": "markdown",
   "metadata": {},
   "source": [
    "### Fit and score without splitting for cross validation"
   ]
  },
  {
   "cell_type": "code",
   "execution_count": 19,
   "metadata": {
    "scrolled": true
   },
   "outputs": [
    {
     "name": "stdout",
     "output_type": "stream",
     "text": [
      "R2: 0.26081558615335276\n",
      " \n",
      "Coefficients: \n",
      "SeasonWins: 0.041173198773778265\n",
      "Points: 0.12091617582048202\n",
      "FGM: -0.286801624314474\n",
      "FGM3: -0.135963501218863\n",
      "FTA: -0.11459231810810981\n",
      "Off Rebounds: 0.03992460298830849\n",
      "Def Rebounds: -0.0035367718125714556\n",
      "Assists: 0.048910642540339416\n",
      "Turnovers: -0.01737018290681564\n",
      "Steals: 0.01576543888053094\n",
      "Blocks: 0.13366667275333724\n",
      "Fouls: 0.002546519037889595\n",
      "YearsExp: 0.0023049427477746173\n",
      "Conf_Champs: 0.08780543831064949\n",
      "Seed: -0.011315566398081074\n",
      "\n"
     ]
    }
   ],
   "source": [
    "model_naive = model.fit(x, y)\n",
    "\n",
    "score_naive = model_naive.score(x, y)\n",
    "coef_naive = model_naive.coef_\n",
    "\n",
    "print(f\"R2: {score_naive}\")\n",
    "print(' ')\n",
    "print(f'Coefficients: \\nSeasonWins: {coef_naive[0]}\\nPoints: {coef_naive[1]}\\nFGM: {coef_naive[2]}\\nFGM3: {coef_naive[3]}\\nFTA: {coef_naive[4]}\\nOff Rebounds: {coef_naive[5]}\\nDef Rebounds: {coef_naive[6]}\\nAssists: {coef_naive[7]}\\nTurnovers: {coef_naive[8]}\\nSteals: {coef_naive[9]}\\nBlocks: {coef_naive[10]}\\nFouls: {coef_naive[11]}\\nYearsExp: {coef_naive[12]}\\nConf_Champs: {coef_naive[13]}\\nSeed: {coef_naive[14]}\\n')"
   ]
  },
  {
   "cell_type": "markdown",
   "metadata": {},
   "source": [
    "### Fit on training data"
   ]
  },
  {
   "cell_type": "code",
   "execution_count": 2,
   "metadata": {
    "scrolled": true
   },
   "outputs": [
    {
     "ename": "NameError",
     "evalue": "name 'model' is not defined",
     "output_type": "error",
     "traceback": [
      "\u001b[0;31m---------------------------------------------------------------------------\u001b[0m",
      "\u001b[0;31mNameError\u001b[0m                                 Traceback (most recent call last)",
      "\u001b[0;32m<ipython-input-2-5b099eaa2804>\u001b[0m in \u001b[0;36m<module>\u001b[0;34m\u001b[0m\n\u001b[0;32m----> 1\u001b[0;31m \u001b[0mmodel_trained\u001b[0m \u001b[0;34m=\u001b[0m \u001b[0mmodel\u001b[0m\u001b[0;34m.\u001b[0m\u001b[0mfit\u001b[0m\u001b[0;34m(\u001b[0m\u001b[0mx_train\u001b[0m\u001b[0;34m,\u001b[0m \u001b[0my_train\u001b[0m\u001b[0;34m)\u001b[0m\u001b[0;34m\u001b[0m\u001b[0;34m\u001b[0m\u001b[0m\n\u001b[0m\u001b[1;32m      2\u001b[0m \u001b[0;34m\u001b[0m\u001b[0m\n\u001b[1;32m      3\u001b[0m \u001b[0mtrain_score\u001b[0m \u001b[0;34m=\u001b[0m \u001b[0mmodel_trained\u001b[0m\u001b[0;34m.\u001b[0m\u001b[0mscore\u001b[0m\u001b[0;34m(\u001b[0m\u001b[0mx_train\u001b[0m\u001b[0;34m,\u001b[0m \u001b[0my_train\u001b[0m\u001b[0;34m)\u001b[0m\u001b[0;34m\u001b[0m\u001b[0;34m\u001b[0m\u001b[0m\n\u001b[1;32m      4\u001b[0m \u001b[0mcoef_trained\u001b[0m \u001b[0;34m=\u001b[0m \u001b[0mmodel_trained\u001b[0m\u001b[0;34m.\u001b[0m\u001b[0mcoef_\u001b[0m\u001b[0;34m\u001b[0m\u001b[0;34m\u001b[0m\u001b[0m\n\u001b[1;32m      5\u001b[0m \u001b[0;34m\u001b[0m\u001b[0m\n",
      "\u001b[0;31mNameError\u001b[0m: name 'model' is not defined"
     ]
    }
   ],
   "source": [
    "model_trained = model.fit(x_train, y_train)\n",
    "\n",
    "train_score = model_trained.score(x_train, y_train)\n",
    "coef_trained = model_trained.coef_\n",
    "\n",
    "print(f\"R2: {train_score}\")\n",
    "print(' ')\n",
    "print(f'Coefficients: \\nSeasonWins: {coef_trained[0]}\\nPoints: {coef_trained[1]}\\nFGM: {coef_trained[2]}\\nFGM3: {coef_trained[3]}\\nFTA: {coef_trained[4]}\\nOff Rebounds: {coef_trained[5]}\\nDef Rebounds: {coef_trained[6]}\\nAssists: {coef_trained[7]}\\nTurnovers: {coef_trained[8]}\\nSteals: {coef_trained[9]}\\nBlocks: {coef_trained[10]}\\nFouls: {coef_trained[11]}\\nYearsExp: {coef_trained[12]}\\nConf_Champs: {coef_trained[13]}\\nSeed: {coef_trained[14]}\\n')"
   ]
  },
  {
   "cell_type": "markdown",
   "metadata": {},
   "source": [
    "### Score with testing data"
   ]
  },
  {
   "cell_type": "code",
   "execution_count": 21,
   "metadata": {
    "scrolled": true
   },
   "outputs": [
    {
     "name": "stdout",
     "output_type": "stream",
     "text": [
      "MSE: 0.5291166125075055\n",
      "Test R2: 0.18460453547238287\n"
     ]
    }
   ],
   "source": [
    "predictions = model_trained.predict(x_test)\n",
    "test_score = model_trained.score(x_test, y_test)\n",
    "MSE = mean_squared_error(y_test, predictions)\n",
    "\n",
    "print(f\"MSE: {MSE}\")\n",
    "print(f\"Test R2: {test_score}\")"
   ]
  },
  {
   "cell_type": "markdown",
   "metadata": {},
   "source": [
    "# PREDICTION"
   ]
  },
  {
   "cell_type": "code",
   "execution_count": 27,
   "metadata": {},
   "outputs": [],
   "source": [
    "virginia = teams_68.loc[teams_68['Name'] == \"Virginia\"].drop(columns=['Name','TourneyWins'])\n",
    "unc = teams_68.loc[teams_68['Name'] == 'North Carolina'].drop(columns=['Name','TourneyWins'])\n",
    "duke = teams_68.loc[teams_68['Name'] == 'Duke'].drop(columns=['Name','TourneyWins'])"
   ]
  },
  {
   "cell_type": "code",
   "execution_count": 40,
   "metadata": {},
   "outputs": [
    {
     "name": "stdout",
     "output_type": "stream",
     "text": [
      "Prediction: [3.13871686]\n",
      "Actual: 6\n"
     ]
    }
   ],
   "source": [
    "virginia_vector = virginia.values\n",
    "predicted_class = model_trained.predict(virginia_vector)\n",
    "print(f\"Prediction: {predicted_class}\")\n",
    "print(f\"Actual: 6\")"
   ]
  },
  {
   "cell_type": "code",
   "execution_count": 42,
   "metadata": {},
   "outputs": [
    {
     "name": "stdout",
     "output_type": "stream",
     "text": [
      "Prediction: [1.99569747]\n",
      "Actual: 2\n"
     ]
    }
   ],
   "source": [
    "unc_vector = unc.values\n",
    "predicted_class = model_trained.predict(unc_vector)\n",
    "print(f\"Prediction: {predicted_class}\")\n",
    "print(f\"Actual: 2\")"
   ]
  },
  {
   "cell_type": "code",
   "execution_count": 41,
   "metadata": {},
   "outputs": [
    {
     "name": "stdout",
     "output_type": "stream",
     "text": [
      "Prediction: [2.2074207]\n",
      "Actual: 3\n"
     ]
    }
   ],
   "source": [
    "duke_vector = duke.values\n",
    "predicted_class = model_trained.predict(duke_vector)\n",
    "print(f\"Prediction: {predicted_class}\")\n",
    "print(f\"Actual: 3\")"
   ]
  },
  {
   "cell_type": "code",
   "execution_count": null,
   "metadata": {},
   "outputs": [],
   "source": []
  }
 ],
 "metadata": {
  "kernelspec": {
   "display_name": "Python 3",
   "language": "python",
   "name": "python3"
  },
  "language_info": {
   "codemirror_mode": {
    "name": "ipython",
    "version": 3
   },
   "file_extension": ".py",
   "mimetype": "text/x-python",
   "name": "python",
   "nbconvert_exporter": "python",
   "pygments_lexer": "ipython3",
   "version": "3.7.3"
  }
 },
 "nbformat": 4,
 "nbformat_minor": 2
}
