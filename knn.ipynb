{
 "cells": [
  {
   "cell_type": "markdown",
   "metadata": {},
   "source": [
    "# KNN"
   ]
  },
  {
   "cell_type": "code",
   "execution_count": 1,
   "metadata": {},
   "outputs": [],
   "source": [
    "import matplotlib.pyplot as plt\n",
    "import pandas as pd\n",
    "import os\n",
    "import seaborn as sns\n",
    "import numpy as np\n",
    "from sklearn.ensemble import RandomForestClassifier\n",
    "from sklearn.preprocessing import StandardScaler\n",
    "from sklearn.model_selection import train_test_split\n",
    "from sklearn.neighbors import KNeighborsClassifier"
   ]
  },
  {
   "cell_type": "code",
   "execution_count": 2,
   "metadata": {},
   "outputs": [],
   "source": [
    "teams_68 = pd.read_csv(os.path.join('final_dataset68.csv')).fillna(0).drop(columns=['Unnamed: 0'])\n",
    "teams_353 = pd.read_csv(os.path.join('final_dataset353.csv')).fillna(0).drop(columns=['Unnamed: 0'])"
   ]
  },
  {
   "cell_type": "code",
   "execution_count": 3,
   "metadata": {},
   "outputs": [],
   "source": [
    "bins = [0, 1, 2, 3, 4, 5, 6]\n",
    "group_names = [\"First/2nd Round Exit\", \"Sweet Sixteen\", \"Elite 8\", \"Final Four\", \"Semi-Finalist\", \"Champion\"]\n",
    "\n",
    "teams_68['Outcome'] = pd.cut(teams_68['TourneyWins'], bins, labels=group_names)\n",
    "\n",
    "teams_68 = teams_68.fillna('First/2nd Round Exit')\n",
    "\n",
    "teams_68['TourneyWins'] = teams_68['TourneyWins'].astype(int)"
   ]
  },
  {
   "cell_type": "code",
   "execution_count": 4,
   "metadata": {},
   "outputs": [],
   "source": [
    "labels = {\n",
    "    0:\"First/2nd Round Exit\",\n",
    "    1:\"First/2nd Round Exit\",\n",
    "    2:\"Sweet Sixteen\",\n",
    "    3:\"Elite 8\",\n",
    "    4:\"Final Four\",\n",
    "    5:\"Semi-Finalist\",\n",
    "    6:'Champion'    \n",
    "}"
   ]
  },
  {
   "cell_type": "code",
   "execution_count": 5,
   "metadata": {},
   "outputs": [],
   "source": [
    "x = teams_68.iloc[:, 1:16].values\n",
    "\n",
    "y = teams_68.iloc[:, -2].values"
   ]
  },
  {
   "cell_type": "code",
   "execution_count": 6,
   "metadata": {},
   "outputs": [],
   "source": [
    "x_train, x_test, y_train, y_test = train_test_split(x, y, test_size=0.33, random_state=42)"
   ]
  },
  {
   "cell_type": "code",
   "execution_count": 7,
   "metadata": {},
   "outputs": [],
   "source": [
    "# Create a StandardScater model and fit it to the training data\n",
    "\n",
    "x_scaler = StandardScaler().fit(x_train.reshape(-1, 1))"
   ]
  },
  {
   "cell_type": "code",
   "execution_count": 8,
   "metadata": {},
   "outputs": [],
   "source": [
    "# Transform the training and testing data using the X_scaler and y_scaler models\n",
    "\n",
    "x_train_scaled = x_scaler.transform(x_train)\n",
    "x_test_scaled = x_scaler.transform(x_test)"
   ]
  },
  {
   "cell_type": "code",
   "execution_count": 9,
   "metadata": {},
   "outputs": [
    {
     "name": "stdout",
     "output_type": "stream",
     "text": [
      "k: 1, Train/Test Score: 1.000/0.435\n",
      "k: 3, Train/Test Score: 0.667/0.435\n",
      "k: 5, Train/Test Score: 0.667/0.522\n",
      "k: 7, Train/Test Score: 0.622/0.522\n",
      "k: 9, Train/Test Score: 0.578/0.478\n",
      "k: 11, Train/Test Score: 0.578/0.435\n",
      "k: 13, Train/Test Score: 0.489/0.478\n",
      "k: 15, Train/Test Score: 0.489/0.522\n",
      "k: 17, Train/Test Score: 0.467/0.522\n",
      "k: 19, Train/Test Score: 0.489/0.522\n",
      "k: 21, Train/Test Score: 0.511/0.565\n",
      "k: 23, Train/Test Score: 0.511/0.565\n",
      "k: 25, Train/Test Score: 0.511/0.565\n",
      "k: 27, Train/Test Score: 0.511/0.565\n",
      "k: 29, Train/Test Score: 0.511/0.565\n"
     ]
    },
    {
     "data": {
      "image/png": "[encoded data removed]",
      "text/plain": [
       "<Figure size 432x288 with 1 Axes>"
      ]
     },
     "metadata": {
      "needs_background": "light"
     },
     "output_type": "display_data"
    }
   ],
   "source": [
    "# Loop through different k values to see which has the highest accuracy\n",
    "# Note: We only use odd numbers because we don't want any ties\n",
    "train_scores = []\n",
    "test_scores = []\n",
    "for k in range(1, 30, 2):\n",
    "    knn = KNeighborsClassifier(n_neighbors=k)\n",
    "    knn.fit(x_train_scaled, y_train)\n",
    "    train_score = knn.score(x_train_scaled, y_train)\n",
    "    test_score = knn.score(x_test_scaled, y_test)\n",
    "    train_scores.append(train_score)\n",
    "    test_scores.append(test_score)\n",
    "    print(f\"k: {k}, Train/Test Score: {train_score:.3f}/{test_score:.3f}\")\n",
    "    \n",
    "    \n",
    "plt.plot(range(1, 30, 2), train_scores, marker='o')\n",
    "plt.plot(range(1, 30, 2), test_scores, marker=\"x\")\n",
    "plt.xlabel(\"k neighbors\")\n",
    "plt.ylabel(\"Testing accuracy Score\")\n",
    "plt.show()"
   ]
  },
  {
   "cell_type": "code",
   "execution_count": 10,
   "metadata": {},
   "outputs": [
    {
     "name": "stdout",
     "output_type": "stream",
     "text": [
      "k=20 Test Acc: 0.565\n"
     ]
    }
   ],
   "source": [
    "knn = KNeighborsClassifier(n_neighbors=20)\n",
    "knn.fit(x_train_scaled, y_train)\n",
    "print('k=20 Test Acc: %.3f' % knn.score(x_test_scaled, y_test))"
   ]
  },
  {
   "cell_type": "markdown",
   "metadata": {},
   "source": [
    "# PREDICTIONS"
   ]
  },
  {
   "cell_type": "code",
   "execution_count": 19,
   "metadata": {},
   "outputs": [],
   "source": [
    "virginia = teams_68.loc[teams_68['Name'] == \"Virginia\"].drop(columns=['Name','TourneyWins','Outcome']).values\n",
    "unc = teams_68.loc[teams_68['Name'] == 'North Carolina'].drop(columns=['Name','TourneyWins','Outcome']).values\n",
    "duke = teams_68.loc[teams_68['Name'] == 'Duke'].drop(columns=['Name','TourneyWins','Outcome']).values"
   ]
  },
  {
   "cell_type": "code",
   "execution_count": 21,
   "metadata": {},
   "outputs": [
    {
     "name": "stdout",
     "output_type": "stream",
     "text": [
      "Prediction: First/2nd Round Exit\n"
     ]
    }
   ],
   "source": [
    "virginia_scaled = x_scaler.transform(virginia)\n",
    "predicted_class = knn.predict(virginia_scaled)\n",
    "print(f\"Prediction: {labels[predicted_class[0]]}\")"
   ]
  },
  {
   "cell_type": "code",
   "execution_count": 23,
   "metadata": {
    "scrolled": false
   },
   "outputs": [
    {
     "name": "stdout",
     "output_type": "stream",
     "text": [
      "Prediction: First/2nd Round Exit\n"
     ]
    }
   ],
   "source": [
    "duke_scaled = x_scaler.transform(duke)\n",
    "predicted_class = knn.predict(duke_scaled)\n",
    "print(f\"Prediction: {labels[predicted_class[0]]}\")"
   ]
  },
  {
   "cell_type": "code",
   "execution_count": 24,
   "metadata": {
    "scrolled": false
   },
   "outputs": [
    {
     "name": "stdout",
     "output_type": "stream",
     "text": [
      "Prediction: First/2nd Round Exit\n"
     ]
    }
   ],
   "source": [
    "unc_scaled = x_scaler.transform(unc)\n",
    "predicted_class = knn.predict(unc_scaled)\n",
    "print(f\"Prediction: {labels[predicted_class[0]]}\")"
   ]
  },
  {
   "cell_type": "code",
   "execution_count": null,
   "metadata": {},
   "outputs": [],
   "source": []
  }
 ],
 "metadata": {
  "kernelspec": {
   "display_name": "Python 3",
   "language": "python",
   "name": "python3"
  },
  "language_info": {
   "codemirror_mode": {
    "name": "ipython",
    "version": 3
   },
   "file_extension": ".py",
   "mimetype": "text/x-python",
   "name": "python",
   "nbconvert_exporter": "python",
   "pygments_lexer": "ipython3",
   "version": "3.7.3"
  }
 },
 "nbformat": 4,
 "nbformat_minor": 2
}
