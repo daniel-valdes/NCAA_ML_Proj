{
 "cells": [
  {
   "cell_type": "markdown",
   "metadata": {},
   "source": [
    "# LOGISTIC REGRESSION"
   ]
  },
  {
   "cell_type": "code",
   "execution_count": 2,
   "metadata": {},
   "outputs": [],
   "source": [
    "%matplotlib inline\n",
    "import matplotlib.pyplot as plt\n",
    "import pandas as pd\n",
    "import os\n",
    "from sklearn.model_selection import train_test_split\n",
    "from sklearn.linear_model import LogisticRegression\n",
    "from sklearn.metrics import classification_report"
   ]
  },
  {
   "cell_type": "code",
   "execution_count": 3,
   "metadata": {},
   "outputs": [],
   "source": [
    "first_round = pd.read_csv(os.path.join('final_dataset68.csv')).drop(columns=['Unnamed: 0'])\n",
    "\n",
    "first_round['TourneyWins'] = first_round['TourneyWins'].astype(int)\n",
    "\n",
    "first_round['NextRound'] = [1 if x > 0 else 0 for x in first_round['TourneyWins']]"
   ]
  },
  {
   "cell_type": "code",
   "execution_count": 4,
   "metadata": {},
   "outputs": [],
   "source": [
    "second_round = first_round[first_round.NextRound == 1].drop(columns=['NextRound'])\n",
    "\n",
    "second_round['NextRound'] = [1 if x > 1 else 0 for x in second_round['TourneyWins']]"
   ]
  },
  {
   "cell_type": "code",
   "execution_count": 5,
   "metadata": {},
   "outputs": [],
   "source": [
    "s_sixteen = second_round[second_round.NextRound == 1].drop(columns=['NextRound'])\n",
    "\n",
    "s_sixteen['NextRound'] = [1 if x > 2 else 0 for x in s_sixteen['TourneyWins']]"
   ]
  },
  {
   "cell_type": "code",
   "execution_count": 6,
   "metadata": {},
   "outputs": [],
   "source": [
    "e_eight = s_sixteen[s_sixteen.NextRound == 1].drop(columns=['NextRound'])\n",
    "\n",
    "e_eight['NextRound'] = [1 if x > 3 else 0 for x in e_eight['TourneyWins']]"
   ]
  },
  {
   "cell_type": "code",
   "execution_count": 7,
   "metadata": {},
   "outputs": [],
   "source": [
    "f_four = e_eight[e_eight.NextRound == 1].drop(columns=['NextRound'])\n",
    "\n",
    "f_four['NextRound'] = [1 if x > 4 else 0 for x in f_four['TourneyWins']]"
   ]
  },
  {
   "cell_type": "markdown",
   "metadata": {},
   "source": [
    "Now have dataframes for each round of tourney: "
   ]
  },
  {
   "cell_type": "markdown",
   "metadata": {},
   "source": [
    "### Function to make predictions further down"
   ]
  },
  {
   "cell_type": "code",
   "execution_count": 8,
   "metadata": {},
   "outputs": [],
   "source": [
    "def predict(teamname, vector):\n",
    "    \n",
    "    if classifier.predict(vector)[0] == 1:\n",
    "        \n",
    "        print(str(teamname) + ' will advance to the next round')\n",
    "    \n",
    "    else:\n",
    "        \n",
    "        print(str(teamname) + ' will be eliminated')"
   ]
  },
  {
   "cell_type": "markdown",
   "metadata": {},
   "source": [
    "## LOGISTIC MODEL: FIRST ROUND"
   ]
  },
  {
   "cell_type": "code",
   "execution_count": null,
   "metadata": {},
   "outputs": [],
   "source": [
    "x = first_round.drop(columns=['Name','TourneyWins','NextRound'])\n",
    "y = first_round['NextRound']"
   ]
  },
  {
   "cell_type": "code",
   "execution_count": null,
   "metadata": {},
   "outputs": [],
   "source": [
    "x_train, x_test, y_train, y_test = train_test_split(x, y, random_state=42)"
   ]
  },
  {
   "cell_type": "code",
   "execution_count": null,
   "metadata": {
    "scrolled": true
   },
   "outputs": [],
   "source": [
    "classifier = LogisticRegression()\n",
    "classifier.fit(x_train, y_train)"
   ]
  },
  {
   "cell_type": "code",
   "execution_count": null,
   "metadata": {
    "scrolled": false
   },
   "outputs": [],
   "source": [
    "print(f\"Training Data Score: {classifier.score(x_train, y_train)}\")\n",
    "print(f\"Testing Score: {classifier.score(x_test, y_test)}\")"
   ]
  },
  {
   "cell_type": "code",
   "execution_count": null,
   "metadata": {},
   "outputs": [],
   "source": [
    "virginia_vector = first_round.loc[first_round['Name'] == \"Virginia\"].drop(columns=['Name','TourneyWins','NextRound']).values\n",
    "unc_vector = first_round.loc[first_round['Name'] == 'North Carolina'].drop(columns=['Name','TourneyWins','NextRound']).values\n",
    "duke_vector = first_round.loc[first_round['Name'] == 'Duke'].drop(columns=['Name','TourneyWins','NextRound']).values"
   ]
  },
  {
   "cell_type": "code",
   "execution_count": null,
   "metadata": {},
   "outputs": [],
   "source": [
    "predict('Virginia', virginia_vector)"
   ]
  },
  {
   "cell_type": "code",
   "execution_count": null,
   "metadata": {},
   "outputs": [],
   "source": [
    "predict('UNC', unc_vector)"
   ]
  },
  {
   "cell_type": "code",
   "execution_count": null,
   "metadata": {},
   "outputs": [],
   "source": [
    "predict('Duke', duke_vector)"
   ]
  },
  {
   "cell_type": "markdown",
   "metadata": {},
   "source": [
    "Virginia, UNC, and Duke are all predicted to advance to second round"
   ]
  },
  {
   "cell_type": "markdown",
   "metadata": {},
   "source": [
    " "
   ]
  },
  {
   "cell_type": "markdown",
   "metadata": {},
   "source": [
    "## LOGISTIC MODEL: SWEET SIXTEEN"
   ]
  },
  {
   "cell_type": "code",
   "execution_count": 11,
   "metadata": {},
   "outputs": [],
   "source": [
    "x = s_sixteen.drop(columns=['Name','TourneyWins','NextRound'])\n",
    "y = s_sixteen['NextRound']"
   ]
  },
  {
   "cell_type": "code",
   "execution_count": 12,
   "metadata": {},
   "outputs": [],
   "source": [
    "x_train, x_test, y_train, y_test = train_test_split(x, y, random_state=42)"
   ]
  },
  {
   "cell_type": "code",
   "execution_count": 13,
   "metadata": {
    "scrolled": true
   },
   "outputs": [
    {
     "name": "stderr",
     "output_type": "stream",
     "text": [
      "/Users/danvaldes/anaconda3/lib/python3.7/site-packages/sklearn/linear_model/logistic.py:432: FutureWarning: Default solver will be changed to 'lbfgs' in 0.22. Specify a solver to silence this warning.\n",
      "  FutureWarning)\n"
     ]
    },
    {
     "data": {
      "text/plain": [
       "LogisticRegression(C=1.0, class_weight=None, dual=False, fit_intercept=True,\n",
       "                   intercept_scaling=1, l1_ratio=None, max_iter=100,\n",
       "                   multi_class='warn', n_jobs=None, penalty='l2',\n",
       "                   random_state=None, solver='warn', tol=0.0001, verbose=0,\n",
       "                   warm_start=False)"
      ]
     },
     "execution_count": 13,
     "metadata": {},
     "output_type": "execute_result"
    }
   ],
   "source": [
    "classifier = LogisticRegression()\n",
    "classifier.fit(x_train, y_train)"
   ]
  },
  {
   "cell_type": "code",
   "execution_count": 14,
   "metadata": {
    "scrolled": false
   },
   "outputs": [
    {
     "name": "stdout",
     "output_type": "stream",
     "text": [
      "Training Data Score: 1.0\n",
      "Testing Score: 0.25\n"
     ]
    }
   ],
   "source": [
    "print(f\"Training Data Score: {classifier.score(x_train, y_train)}\")\n",
    "print(f\"Testing Score: {classifier.score(x_test, y_test)}\")"
   ]
  },
  {
   "cell_type": "code",
   "execution_count": 15,
   "metadata": {},
   "outputs": [],
   "source": [
    "auburn = s_sixteen.loc[s_sixteen['Name'] == 'Auburn'].drop(columns=['Name','TourneyWins','NextRound']).values\n",
    "duke = s_sixteen.loc[s_sixteen['Name'] == 'Duke'].drop(columns=['Name','TourneyWins','NextRound']).values\n",
    "fsu = s_sixteen.loc[s_sixteen['Name'] == 'Florida St'].drop(columns=['Name','TourneyWins','NextRound']).values\n",
    "gonzaga = s_sixteen.loc[s_sixteen['Name'] == 'Gonzaga'].drop(columns=['Name','TourneyWins','NextRound']).values\n",
    "houston = s_sixteen.loc[s_sixteen['Name'] == 'Houston'].drop(columns=['Name','TourneyWins','NextRound']).values\n",
    "kentucky = s_sixteen.loc[s_sixteen['Name'] == 'Kentucky'].drop(columns=['Name','TourneyWins','NextRound']).values\n",
    "lsu = s_sixteen.loc[s_sixteen['Name'] == 'LSU'].drop(columns=['Name','TourneyWins','NextRound']).values\n",
    "michigan = s_sixteen.loc[s_sixteen['Name'] == 'Michigan'].drop(columns=['Name','TourneyWins','NextRound']).values\n",
    "michiganst = s_sixteen.loc[s_sixteen['Name'] == 'Michigan St'].drop(columns=['Name','TourneyWins','NextRound']).values\n",
    "unc = s_sixteen.loc[s_sixteen['Name'] == 'North Carolina'].drop(columns=['Name','TourneyWins','NextRound']).values\n",
    "oregon = s_sixteen.loc[s_sixteen['Name'] == 'Oregon'].drop(columns=['Name','TourneyWins','NextRound']).values\n",
    "purdue = s_sixteen.loc[s_sixteen['Name'] == 'Purdue'].drop(columns=['Name','TourneyWins','NextRound']).values\n",
    "tennessee = s_sixteen.loc[s_sixteen['Name'] == 'Tennessee'].drop(columns=['Name','TourneyWins','NextRound']).values\n",
    "texastech = s_sixteen.loc[s_sixteen['Name'] == 'Texas Tech'].drop(columns=['Name','TourneyWins','NextRound']).values\n",
    "virginia = s_sixteen.loc[s_sixteen['Name'] == 'Virginia'].drop(columns=['Name','TourneyWins','NextRound']).values\n",
    "vt = s_sixteen.loc[s_sixteen['Name'] == 'Virginia Tech'].drop(columns=['Name','TourneyWins','NextRound']).values"
   ]
  },
  {
   "cell_type": "code",
   "execution_count": 16,
   "metadata": {},
   "outputs": [],
   "source": [
    "teams = s_sixteen['Name'].values\n",
    "vectors = [auburn, duke, fsu, gonzaga, houston, kentucky, lsu, michigan, michiganst, unc, oregon, purdue, tennessee, texastech, virginia, vt]"
   ]
  },
  {
   "cell_type": "code",
   "execution_count": 18,
   "metadata": {
    "scrolled": true
   },
   "outputs": [
    {
     "name": "stdout",
     "output_type": "stream",
     "text": [
      "Auburn will advance to the next round\n",
      "Duke will be eliminated\n",
      "Florida St will be eliminated\n",
      "Gonzaga will advance to the next round\n",
      "Houston will be eliminated\n",
      "Kentucky will be eliminated\n",
      "LSU will be eliminated\n",
      "Michigan will be eliminated\n",
      "Michigan St will advance to the next round\n",
      "North Carolina will be eliminated\n",
      "Oregon will be eliminated\n",
      "Purdue will advance to the next round\n",
      "Tennessee will be eliminated\n",
      "Texas Tech will advance to the next round\n",
      "Virginia will be eliminated\n",
      "Virginia Tech will be eliminated\n"
     ]
    }
   ],
   "source": [
    "for x in range(0, 16):\n",
    "    \n",
    "    predict(teams[x],vectors[x]);"
   ]
  },
  {
   "cell_type": "markdown",
   "metadata": {},
   "source": [
    " "
   ]
  },
  {
   "cell_type": "markdown",
   "metadata": {},
   "source": [
    "## LOGISTIC MODEL: ELITE EIGHT"
   ]
  },
  {
   "cell_type": "code",
   "execution_count": 19,
   "metadata": {},
   "outputs": [],
   "source": [
    "x = e_eight.drop(columns=['Name','TourneyWins','NextRound'])\n",
    "y = e_eight['NextRound']"
   ]
  },
  {
   "cell_type": "code",
   "execution_count": 20,
   "metadata": {},
   "outputs": [],
   "source": [
    "x_train, x_test, y_train, y_test = train_test_split(x, y, random_state=42)"
   ]
  },
  {
   "cell_type": "code",
   "execution_count": 21,
   "metadata": {
    "scrolled": true
   },
   "outputs": [
    {
     "name": "stderr",
     "output_type": "stream",
     "text": [
      "/Users/danvaldes/anaconda3/lib/python3.7/site-packages/sklearn/linear_model/logistic.py:432: FutureWarning: Default solver will be changed to 'lbfgs' in 0.22. Specify a solver to silence this warning.\n",
      "  FutureWarning)\n"
     ]
    },
    {
     "data": {
      "text/plain": [
       "LogisticRegression(C=1.0, class_weight=None, dual=False, fit_intercept=True,\n",
       "                   intercept_scaling=1, l1_ratio=None, max_iter=100,\n",
       "                   multi_class='warn', n_jobs=None, penalty='l2',\n",
       "                   random_state=None, solver='warn', tol=0.0001, verbose=0,\n",
       "                   warm_start=False)"
      ]
     },
     "execution_count": 21,
     "metadata": {},
     "output_type": "execute_result"
    }
   ],
   "source": [
    "classifier = LogisticRegression()\n",
    "classifier.fit(x_train, y_train)"
   ]
  },
  {
   "cell_type": "code",
   "execution_count": 22,
   "metadata": {
    "scrolled": false
   },
   "outputs": [
    {
     "name": "stdout",
     "output_type": "stream",
     "text": [
      "Training Data Score: 1.0\n",
      "Testing Score: 0.5\n"
     ]
    }
   ],
   "source": [
    "print(f\"Training Data Score: {classifier.score(x_train, y_train)}\")\n",
    "print(f\"Testing Score: {classifier.score(x_test, y_test)}\")"
   ]
  },
  {
   "cell_type": "code",
   "execution_count": 23,
   "metadata": {},
   "outputs": [],
   "source": [
    "auburn = e_eight.loc[e_eight['Name'] == 'Auburn'].drop(columns=['Name','TourneyWins','NextRound']).values\n",
    "duke = e_eight.loc[e_eight['Name'] == 'Duke'].drop(columns=['Name','TourneyWins','NextRound']).values\n",
    "gonzaga = e_eight.loc[e_eight['Name'] == 'Gonzaga'].drop(columns=['Name','TourneyWins','NextRound']).values\n",
    "kentucky = e_eight.loc[e_eight['Name'] == 'Kentucky'].drop(columns=['Name','TourneyWins','NextRound']).values\n",
    "michiganst = e_eight.loc[e_eight['Name'] == 'Michigan St'].drop(columns=['Name','TourneyWins','NextRound']).values\n",
    "purdue = e_eight.loc[e_eight['Name'] == 'Purdue'].drop(columns=['Name','TourneyWins','NextRound']).values\n",
    "texastech = e_eight.loc[e_eight['Name'] == 'Texas Tech'].drop(columns=['Name','TourneyWins','NextRound']).values\n",
    "virginia = e_eight.loc[e_eight['Name'] == 'Virginia'].drop(columns=['Name','TourneyWins','NextRound']).values"
   ]
  },
  {
   "cell_type": "code",
   "execution_count": 24,
   "metadata": {},
   "outputs": [],
   "source": [
    "teams = e_eight['Name'].values\n",
    "vectors = [auburn, duke, gonzaga, kentucky, michiganst, purdue, texastech, virginia]"
   ]
  },
  {
   "cell_type": "code",
   "execution_count": 26,
   "metadata": {},
   "outputs": [
    {
     "name": "stdout",
     "output_type": "stream",
     "text": [
      "Auburn will advance to the next round\n",
      "Duke will be eliminated\n",
      "Gonzaga will be eliminated\n",
      "Kentucky will be eliminated\n",
      "Michigan St will advance to the next round\n",
      "Purdue will advance to the next round\n",
      "Texas Tech will advance to the next round\n",
      "Virginia will advance to the next round\n"
     ]
    }
   ],
   "source": [
    "for x in range(0, 8):\n",
    "    \n",
    "    predict(teams[x],vectors[x]);"
   ]
  },
  {
   "cell_type": "markdown",
   "metadata": {},
   "source": [
    " "
   ]
  },
  {
   "cell_type": "markdown",
   "metadata": {},
   "source": [
    "## LOGISTIC MODEL: FINAL FOUR"
   ]
  },
  {
   "cell_type": "code",
   "execution_count": 27,
   "metadata": {},
   "outputs": [],
   "source": [
    "x = f_four.drop(columns=['Name','TourneyWins','NextRound'])\n",
    "y = f_four['NextRound']"
   ]
  },
  {
   "cell_type": "code",
   "execution_count": 28,
   "metadata": {
    "scrolled": true
   },
   "outputs": [
    {
     "name": "stderr",
     "output_type": "stream",
     "text": [
      "/Users/danvaldes/anaconda3/lib/python3.7/site-packages/sklearn/linear_model/logistic.py:432: FutureWarning: Default solver will be changed to 'lbfgs' in 0.22. Specify a solver to silence this warning.\n",
      "  FutureWarning)\n"
     ]
    },
    {
     "data": {
      "text/plain": [
       "LogisticRegression(C=1.0, class_weight=None, dual=False, fit_intercept=True,\n",
       "                   intercept_scaling=1, l1_ratio=None, max_iter=100,\n",
       "                   multi_class='warn', n_jobs=None, penalty='l2',\n",
       "                   random_state=None, solver='warn', tol=0.0001, verbose=0,\n",
       "                   warm_start=False)"
      ]
     },
     "execution_count": 28,
     "metadata": {},
     "output_type": "execute_result"
    }
   ],
   "source": [
    "classifier = LogisticRegression()\n",
    "classifier.fit(x, y)"
   ]
  },
  {
   "cell_type": "code",
   "execution_count": 29,
   "metadata": {
    "scrolled": false
   },
   "outputs": [
    {
     "name": "stdout",
     "output_type": "stream",
     "text": [
      "Training Data Score: 0.5\n",
      "Testing Score: 1.0\n"
     ]
    }
   ],
   "source": [
    "print(f\"Training Data Score: {classifier.score(x_train, y_train)}\")\n",
    "print(f\"Testing Score: {classifier.score(x_test, y_test)}\")"
   ]
  },
  {
   "cell_type": "code",
   "execution_count": 30,
   "metadata": {},
   "outputs": [],
   "source": [
    "auburn = e_eight.loc[e_eight['Name'] == 'Auburn'].drop(columns=['Name','TourneyWins','NextRound']).values\n",
    "michiganst = e_eight.loc[e_eight['Name'] == 'Michigan St'].drop(columns=['Name','TourneyWins','NextRound']).values\n",
    "texaxtech = e_eight.loc[e_eight['Name'] == 'Texas Tech'].drop(columns=['Name','TourneyWins','NextRound']).values\n",
    "virgnia = e_eight.loc[e_eight['Name'] == 'Virginia'].drop(columns=['Name','TourneyWins','NextRound']).values"
   ]
  },
  {
   "cell_type": "code",
   "execution_count": 31,
   "metadata": {},
   "outputs": [],
   "source": [
    "teams = f_four['Name'].values\n",
    "vectors = [auburn, michiganst, texastech, virginia]"
   ]
  },
  {
   "cell_type": "code",
   "execution_count": 32,
   "metadata": {
    "scrolled": true
   },
   "outputs": [
    {
     "name": "stdout",
     "output_type": "stream",
     "text": [
      "Auburn will be eliminated\n",
      "Michigan St will be eliminated\n",
      "Texas Tech will advance to the next round\n",
      "Virginia will advance to the next round\n"
     ]
    }
   ],
   "source": [
    "for x in range(0, 4):\n",
    "    \n",
    "    predict(teams[x],vectors[x]);"
   ]
  },
  {
   "cell_type": "code",
   "execution_count": null,
   "metadata": {},
   "outputs": [],
   "source": []
  }
 ],
 "metadata": {
  "kernelspec": {
   "display_name": "Python 3",
   "language": "python",
   "name": "python3"
  },
  "language_info": {
   "codemirror_mode": {
    "name": "ipython",
    "version": 3
   },
   "file_extension": ".py",
   "mimetype": "text/x-python",
   "name": "python",
   "nbconvert_exporter": "python",
   "pygments_lexer": "ipython3",
   "version": "3.7.3"
  }
 },
 "nbformat": 4,
 "nbformat_minor": 2
}
